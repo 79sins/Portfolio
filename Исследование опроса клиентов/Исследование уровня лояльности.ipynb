{
 "cells": [
  {
   "cell_type": "markdown",
   "id": "b2cb294a",
   "metadata": {},
   "source": [
    "# Определение уровня лояльности клиентов."
   ]
  },
  {
   "cell_type": "markdown",
   "id": "574524b3",
   "metadata": {},
   "source": [
    "Задача:\n",
    "\n",
    "Определить текущий уровень потребительской лояльности, или NPS (от англ. Net Promoter Score), среди клиентов из России. \n",
    "\n",
    "Подготовить дашборд с итогами опроса клиентов. Большую базу данных для такой задачи разворачивать не стали и выгрузили данные в SQLite. "
   ]
  },
  {
   "cell_type": "markdown",
   "id": "59d11f30",
   "metadata": {},
   "source": [
    "Описание данных:\n",
    "\n",
    "Таблица user\n",
    "\n",
    "Содержит основную информацию о клиентах.\n",
    "\n",
    "- user_id - Идентификатор клиента, первичный ключ таблицы\n",
    "- lt_day - Количество дней «жизни» клиента\n",
    "- age - Возраст клиента в годах\n",
    "- gender_segment - Пол клиента (1 – женщина, 0 – мужчина)\n",
    "- os_name - Тип операционной системы\n",
    "- cpe_type_name - Тип устройства\n",
    "- location_id - Идентификатор домашнего региона клиента, внешний ключ, отсылающий к таблице location\n",
    "- age_gr_id - Идентификатор возрастного сегмента клиента, внешний ключ, отсылающий к таблице age_segment\n",
    "- tr_gr_id - Идентификатор сегмента клиента по объёму потребляемого трафика в месяц, внешний ключ, отсылающий к таблице traffic_segment\n",
    "- lt_gr_id - Идентификатор сегмента клиента по количеству месяцев «жизни», внешний ключ, отсылающий к таблице lifetime_segment\n",
    "- nps_score - Оценка клиента в NPS-опросе (от 1 до 10)"
   ]
  },
  {
   "cell_type": "markdown",
   "id": "beadcb39",
   "metadata": {},
   "source": [
    "Таблица location\n",
    "\n",
    "Справочник территорий, в которых телеком-компания оказывает услуги."
   ]
  },
  {
   "cell_type": "markdown",
   "id": "70a26cb1",
   "metadata": {},
   "source": [
    "- location_id - Идентификатор записи, первичный ключ\n",
    "- country - Страна\n",
    "- city - Город"
   ]
  },
  {
   "cell_type": "markdown",
   "id": "8196d1cc",
   "metadata": {},
   "source": [
    "Таблица age_segment\n",
    "\n",
    "Данные о возрастных сегментах клиентов.\n",
    "\n",
    "- age_gr_id - Идентификатор сегмента, первичный ключ\n",
    "- bucket_min - Минимальная граница сегмента\n",
    "- bucket_max - Максимальная граница сегмента\n",
    "- title - Название сегмента"
   ]
  },
  {
   "cell_type": "markdown",
   "id": "7a7b2dda",
   "metadata": {},
   "source": [
    "Таблица traffic_segment\n",
    "\n",
    "Данные о выделяемых сегментах по объёму потребляемого трафика.\n",
    "\n",
    "- tr_gr_id - Идентификатор сегмента, первичный ключ\n",
    "- bucket_min - Минимальная граница сегмента\n",
    "- bucket_max - Максимальная граница сегмента\n",
    "- title - Название сегмента"
   ]
  },
  {
   "cell_type": "markdown",
   "id": "8fc896a9",
   "metadata": {},
   "source": [
    "Таблица lifetime_segment\n",
    "\n",
    "Данные о выделяемых сегментах по количеству месяцев «жизни» клиента — лайфтайму.\n",
    "\n",
    "- lt_gr_id - Идентификатор сегмента, первичный ключ\n",
    "- bucket_min - Минимальная граница сегмента\n",
    "- bucket_max - Максимальная граница сегмента\n",
    "- title - Название сегмента"
   ]
  },
  {
   "cell_type": "markdown",
   "id": "9eded83f",
   "metadata": {},
   "source": [
    "# План проекта"
   ]
  },
  {
   "cell_type": "markdown",
   "id": "baab830a",
   "metadata": {},
   "source": [
    "1. Подключение к базе.\n",
    "\n",
    "Необходимо получить доступ к базе данных. Данные выгрузили в SQLite — СУБД, в которой база данных представлена файлом. Для подключения к такой базе достаточно иметь доступ к файлу с расширением .db.\n",
    "\n",
    "2. Выгрузка данных.\n",
    "\n",
    "Подготовить данные для дашборда. Нужно собрать в одну витрину данные из разных таблиц. Эту витрину будем использовать для дашборда.\n",
    "\n",
    "2.1 Написать запрос, который выгрузит следующие поля:\n",
    "\n",
    "- user_id\tИдентификатор клиента\n",
    "- lt_day\tКоличество дней «жизни» клиента\n",
    "- is_new\tПоле хранит информацию о том, является ли клиент новым\n",
    "- age\tВозраст\n",
    "- gender_segment\tПол (для удобства работы с полем преобразуем значения в текстовый вид)\n",
    "- os_name\tТип операционной системы\n",
    "- cpe_type_name\tТип устройства\n",
    "- country\tСтрана проживания\n",
    "- city\tГород проживания\n",
    "- age_segment\tВозрастной сегмент\n",
    "- traffic_segment\tСегмент по объёму потребляемого трафика\n",
    "- lifetime_segment\tСегмент по количеству дней «жизни»\n",
    "- nps_score\tОценка клиента в NPS-опросе\n",
    "- nps_group\tПоле хранит информацию о том, к какой группе относится оценка клиента в опросе\n",
    "\n",
    "2.2 Получившуюся таблицу сохранить как CSV-файл.\n",
    "\n",
    "3. Создание дашборда в Tableau.\n",
    "\n",
    "Построить дашборд, который представит информацию о текущем уровне NPS среди клиентов и покажет, как этот уровень меняется в зависимости от пользовательских признаков. \n",
    "\n",
    "4. Ответить на вопросы с помощью дашборда. \n",
    "\n",
    "- Как распределены участники опроса по возрасту и полу? Каких пользователей больше: новых или старых? Пользователи из каких городов активнее участвовали в опросе?\n",
    "- Какие группы пользователей наиболее лояльны к сервису? Какие менее?\n",
    "- Какой общий NPS среди всех опрошенных?\n",
    "- Как можно описать клиентов, которые относятся к группе cторонников?"
   ]
  },
  {
   "cell_type": "markdown",
   "id": "9ddb5716",
   "metadata": {},
   "source": [
    "## Подключение к базе."
   ]
  },
  {
   "cell_type": "code",
   "execution_count": 1,
   "id": "fc7efa54",
   "metadata": {},
   "outputs": [],
   "source": [
    "# Импортируем нужные библиотеки\n",
    "import os\n",
    "import pandas as pd\n",
    "import numpy as np\n",
    "\n",
    "from sqlalchemy import create_engine"
   ]
  },
  {
   "cell_type": "code",
   "execution_count": 2,
   "id": "0017f8e7",
   "metadata": {},
   "outputs": [],
   "source": [
    "# путь к БД на компьютере \n",
    "path_to_db_local = 'telecomm_csi.db'\n",
    "# путь к БД на платформе\n",
    "path_to_db_platform = '/datasets/telecomm_csi.db'\n",
    "# итоговый путь к БД\n",
    "path_to_db = None\n",
    "\n",
    "# если путь на компьютере ведёт к БД, то он становится итоговым\n",
    "if os.path.exists(path_to_db_local):\n",
    "    path_to_db = path_to_db_local\n",
    "# иначе: если путь на платформе ведёт к БД, то он становится итоговым\n",
    "elif os.path.exists(path_to_db_platform):\n",
    "    path_to_db = path_to_db_platform\n",
    "# иначе выводится сообщение о том, что файл не найден\n",
    "else:\n",
    "    raise Exception('Файл с базой данных SQLite не найден!')\n",
    "\n",
    "# если итоговый путь не пустой\n",
    "if path_to_db:\n",
    "    # то создаём подключение к базе\n",
    "    engine = create_engine(f'sqlite:///{path_to_db}', echo=False)"
   ]
  },
  {
   "cell_type": "markdown",
   "id": "91a458d1",
   "metadata": {},
   "source": [
    "## Выгрузка данных.\n",
    "### Написание запроса."
   ]
  },
  {
   "cell_type": "code",
   "execution_count": 3,
   "id": "84ebad43",
   "metadata": {},
   "outputs": [],
   "source": [
    "# Сохраняем в переменную SQL-запрос\n",
    "query = \"\"\"\n",
    "SELECT u.user_id AS user_id, \n",
    "        u.lt_day AS lt_day, \n",
    "        u.age AS age, \n",
    "        CAST(u.gender_segment AS varchar) AS gender_segment, \n",
    "        u.os_name AS os_name, \n",
    "        u.cpe_type_name AS cpe_type_name, \n",
    "        u.nps_score AS nps_score, \n",
    "        ass.title AS age_segment, \n",
    "        ts.title AS traffic_segment, \n",
    "        ls.title AS lifetime_segment, \n",
    "        l.country AS country, \n",
    "        l.city AS city, \n",
    "        CASE\n",
    "            WHEN u.lt_day < 365 THEN 'new'\n",
    "            ELSE 'old'\n",
    "        END AS is_new, \n",
    "        CASE\n",
    "            WHEN u.nps_score BETWEEN 9 AND 10 THEN 'сторонник'\n",
    "            WHEN u.nps_score BETWEEN 7 AND 8 THEN 'нейтрал'\n",
    "            ELSE 'критик'\n",
    "        END AS nps_group \n",
    "    FROM user AS u\n",
    "    LEFT JOIN location AS l ON l.location_id=u.location_id\n",
    "    LEFT JOIN age_segment AS ass ON ass.age_gr_id=u.age_gr_id\n",
    "    LEFT JOIN traffic_segment AS ts ON ts.tr_gr_id=u.tr_gr_id\n",
    "    LEFT JOIN lifetime_segment AS ls ON ls.lt_gr_id=u.lt_gr_id\n",
    "    WHERE l.country = 'Россия'; \n",
    "\"\"\""
   ]
  },
  {
   "cell_type": "code",
   "execution_count": 4,
   "id": "3965faf2",
   "metadata": {},
   "outputs": [
    {
     "data": {
      "text/html": [
       "<div>\n",
       "<style scoped>\n",
       "    .dataframe tbody tr th:only-of-type {\n",
       "        vertical-align: middle;\n",
       "    }\n",
       "\n",
       "    .dataframe tbody tr th {\n",
       "        vertical-align: top;\n",
       "    }\n",
       "\n",
       "    .dataframe thead th {\n",
       "        text-align: right;\n",
       "    }\n",
       "</style>\n",
       "<table border=\"1\" class=\"dataframe\">\n",
       "  <thead>\n",
       "    <tr style=\"text-align: right;\">\n",
       "      <th></th>\n",
       "      <th>user_id</th>\n",
       "      <th>lt_day</th>\n",
       "      <th>age</th>\n",
       "      <th>gender_segment</th>\n",
       "      <th>os_name</th>\n",
       "      <th>cpe_type_name</th>\n",
       "      <th>nps_score</th>\n",
       "      <th>age_segment</th>\n",
       "      <th>traffic_segment</th>\n",
       "      <th>lifetime_segment</th>\n",
       "      <th>country</th>\n",
       "      <th>city</th>\n",
       "      <th>is_new</th>\n",
       "      <th>nps_group</th>\n",
       "    </tr>\n",
       "  </thead>\n",
       "  <tbody>\n",
       "    <tr>\n",
       "      <th>0</th>\n",
       "      <td>A0CMN5</td>\n",
       "      <td>2729</td>\n",
       "      <td>27.0</td>\n",
       "      <td>0.0</td>\n",
       "      <td>ANDROID</td>\n",
       "      <td>SMARTPHONE</td>\n",
       "      <td>6</td>\n",
       "      <td>03 25-34</td>\n",
       "      <td>16 60-65</td>\n",
       "      <td>08 36+</td>\n",
       "      <td>Россия</td>\n",
       "      <td>Архангельск</td>\n",
       "      <td>old</td>\n",
       "      <td>критик</td>\n",
       "    </tr>\n",
       "    <tr>\n",
       "      <th>1</th>\n",
       "      <td>A0CYVK</td>\n",
       "      <td>478</td>\n",
       "      <td>48.0</td>\n",
       "      <td>1.0</td>\n",
       "      <td>ANDROID</td>\n",
       "      <td>SMARTPHONE</td>\n",
       "      <td>7</td>\n",
       "      <td>05 45-54</td>\n",
       "      <td>06 10-15</td>\n",
       "      <td>06 13-24</td>\n",
       "      <td>Россия</td>\n",
       "      <td>Архангельск</td>\n",
       "      <td>old</td>\n",
       "      <td>нейтрал</td>\n",
       "    </tr>\n",
       "    <tr>\n",
       "      <th>2</th>\n",
       "      <td>A0HNQU</td>\n",
       "      <td>413</td>\n",
       "      <td>42.0</td>\n",
       "      <td>1.0</td>\n",
       "      <td>ANDROID</td>\n",
       "      <td>SMARTPHONE</td>\n",
       "      <td>9</td>\n",
       "      <td>04 35-44</td>\n",
       "      <td>08 20-25</td>\n",
       "      <td>06 13-24</td>\n",
       "      <td>Россия</td>\n",
       "      <td>Архангельск</td>\n",
       "      <td>old</td>\n",
       "      <td>сторонник</td>\n",
       "    </tr>\n",
       "  </tbody>\n",
       "</table>\n",
       "</div>"
      ],
      "text/plain": [
       "  user_id  lt_day   age gender_segment  os_name cpe_type_name  nps_score  \\\n",
       "0  A0CMN5    2729  27.0            0.0  ANDROID    SMARTPHONE          6   \n",
       "1  A0CYVK     478  48.0            1.0  ANDROID    SMARTPHONE          7   \n",
       "2  A0HNQU     413  42.0            1.0  ANDROID    SMARTPHONE          9   \n",
       "\n",
       "  age_segment traffic_segment lifetime_segment country         city is_new  \\\n",
       "0    03 25-34        16 60-65           08 36+  Россия  Архангельск    old   \n",
       "1    05 45-54        06 10-15         06 13-24  Россия  Архангельск    old   \n",
       "2    04 35-44        08 20-25         06 13-24  Россия  Архангельск    old   \n",
       "\n",
       "   nps_group  \n",
       "0     критик  \n",
       "1    нейтрал  \n",
       "2  сторонник  "
      ]
     },
     "execution_count": 4,
     "metadata": {},
     "output_type": "execute_result"
    }
   ],
   "source": [
    "# создаём датафрейм по данным запроса и выводим первые 3 строки таблицы\n",
    "df = pd.read_sql(query, engine)\n",
    "df.head(3)"
   ]
  },
  {
   "cell_type": "markdown",
   "id": "f8b0f43f",
   "metadata": {},
   "source": [
    "### Сохранение файла в формат csv."
   ]
  },
  {
   "cell_type": "code",
   "execution_count": 5,
   "id": "9db04858",
   "metadata": {},
   "outputs": [],
   "source": [
    "df.to_csv('telecomm_csi_tableau.csv', index=False)"
   ]
  },
  {
   "cell_type": "markdown",
   "id": "3dbe0989",
   "metadata": {},
   "source": [
    "## Дашборд с результатами."
   ]
  },
  {
   "cell_type": "markdown",
   "id": "8300fe1b",
   "metadata": {},
   "source": [
    "Ссылка:\n",
    "https://public.tableau.com/views/_16928829199200/sheet18?:language=en-US&publish=yes&:display_count=n&:origin=viz_share_link"
   ]
  }
 ],
 "metadata": {
  "ExecuteTimeLog": [
   {
    "duration": 570,
    "start_time": "2023-08-22T19:28:39.372Z"
   },
   {
    "duration": 509,
    "start_time": "2023-08-23T14:40:02.185Z"
   },
   {
    "duration": 110,
    "start_time": "2023-08-23T14:40:03.674Z"
   },
   {
    "duration": 4,
    "start_time": "2023-08-23T14:40:05.006Z"
   },
   {
    "duration": 503,
    "start_time": "2023-08-23T14:40:06.081Z"
   },
   {
    "duration": 4,
    "start_time": "2023-08-23T14:41:36.871Z"
   },
   {
    "duration": 385,
    "start_time": "2023-08-23T14:41:38.530Z"
   },
   {
    "duration": 2,
    "start_time": "2023-08-23T14:46:38.973Z"
   },
   {
    "duration": 393,
    "start_time": "2023-08-23T14:46:40.198Z"
   },
   {
    "duration": 552,
    "start_time": "2023-08-23T14:47:16.125Z"
   },
   {
    "duration": 70,
    "start_time": "2023-08-23T14:47:16.678Z"
   },
   {
    "duration": 4,
    "start_time": "2023-08-23T14:47:16.750Z"
   },
   {
    "duration": 433,
    "start_time": "2023-08-23T14:47:16.755Z"
   },
   {
    "duration": 0,
    "start_time": "2023-08-23T14:47:17.190Z"
   },
   {
    "duration": 502,
    "start_time": "2023-08-23T14:49:32.871Z"
   },
   {
    "duration": 69,
    "start_time": "2023-08-23T14:49:33.374Z"
   },
   {
    "duration": 4,
    "start_time": "2023-08-23T14:49:33.445Z"
   },
   {
    "duration": 408,
    "start_time": "2023-08-23T14:49:33.451Z"
   },
   {
    "duration": 0,
    "start_time": "2023-08-23T14:49:33.861Z"
   },
   {
    "duration": 3,
    "start_time": "2023-08-23T14:51:28.178Z"
   },
   {
    "duration": 365,
    "start_time": "2023-08-23T14:51:29.327Z"
   },
   {
    "duration": 3,
    "start_time": "2023-08-23T14:52:18.243Z"
   },
   {
    "duration": 460,
    "start_time": "2023-08-23T14:52:20.767Z"
   },
   {
    "duration": 473,
    "start_time": "2023-08-23T14:53:56.808Z"
   },
   {
    "duration": 96,
    "start_time": "2023-08-23T14:53:57.283Z"
   },
   {
    "duration": 4,
    "start_time": "2023-08-23T14:53:57.380Z"
   },
   {
    "duration": 421,
    "start_time": "2023-08-23T14:53:57.385Z"
   },
   {
    "duration": 0,
    "start_time": "2023-08-23T14:53:57.808Z"
   },
   {
    "duration": 766,
    "start_time": "2023-08-23T19:15:20.043Z"
   },
   {
    "duration": 187,
    "start_time": "2023-08-23T19:15:20.811Z"
   },
   {
    "duration": 4,
    "start_time": "2023-08-23T19:15:21.000Z"
   },
   {
    "duration": 1091,
    "start_time": "2023-08-23T19:15:21.006Z"
   },
   {
    "duration": 0,
    "start_time": "2023-08-23T19:15:22.102Z"
   },
   {
    "duration": 5,
    "start_time": "2023-08-23T19:40:45.849Z"
   },
   {
    "duration": 626,
    "start_time": "2023-08-23T19:40:46.859Z"
   },
   {
    "duration": 4,
    "start_time": "2023-08-23T19:41:30.836Z"
   },
   {
    "duration": 3218,
    "start_time": "2023-08-23T19:41:31.799Z"
   },
   {
    "duration": 4,
    "start_time": "2023-08-23T19:43:11.529Z"
   },
   {
    "duration": 14272,
    "start_time": "2023-08-23T19:43:12.456Z"
   },
   {
    "duration": 4,
    "start_time": "2023-08-23T19:44:07.744Z"
   },
   {
    "duration": 21310,
    "start_time": "2023-08-23T19:44:08.405Z"
   },
   {
    "duration": 12985,
    "start_time": "2023-08-23T19:44:46.206Z"
   },
   {
    "duration": 214,
    "start_time": "2023-08-23T19:47:56.469Z"
   },
   {
    "duration": 7313,
    "start_time": "2023-08-23T19:48:40.594Z"
   },
   {
    "duration": 7394,
    "start_time": "2023-08-23T19:50:37.037Z"
   },
   {
    "duration": 546,
    "start_time": "2023-08-29T18:42:27.425Z"
   },
   {
    "duration": 115,
    "start_time": "2023-08-29T18:42:27.974Z"
   },
   {
    "duration": 4,
    "start_time": "2023-08-29T18:42:28.091Z"
   },
   {
    "duration": 7434,
    "start_time": "2023-08-29T18:42:28.096Z"
   },
   {
    "duration": 4543,
    "start_time": "2023-08-29T18:42:35.532Z"
   },
   {
    "duration": 558,
    "start_time": "2024-07-17T09:52:47.364Z"
   },
   {
    "duration": 89,
    "start_time": "2024-07-17T09:52:47.924Z"
   },
   {
    "duration": 4,
    "start_time": "2024-07-17T09:52:48.015Z"
   },
   {
    "duration": 7165,
    "start_time": "2024-07-17T09:52:48.020Z"
   },
   {
    "duration": 4311,
    "start_time": "2024-07-17T09:52:55.187Z"
   }
  ],
  "kernelspec": {
   "display_name": "Python 3 (ipykernel)",
   "language": "python",
   "name": "python3"
  },
  "language_info": {
   "codemirror_mode": {
    "name": "ipython",
    "version": 3
   },
   "file_extension": ".py",
   "mimetype": "text/x-python",
   "name": "python",
   "nbconvert_exporter": "python",
   "pygments_lexer": "ipython3",
   "version": "3.9.5"
  },
  "toc": {
   "base_numbering": 1,
   "nav_menu": {},
   "number_sections": true,
   "sideBar": true,
   "skip_h1_title": true,
   "title_cell": "Table of Contents",
   "title_sidebar": "Contents",
   "toc_cell": false,
   "toc_position": {},
   "toc_section_display": true,
   "toc_window_display": false
  }
 },
 "nbformat": 4,
 "nbformat_minor": 5
}
